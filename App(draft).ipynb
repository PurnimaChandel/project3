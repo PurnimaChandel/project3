{
 "cells": [
  {
   "cell_type": "code",
   "execution_count": 2,
   "metadata": {},
   "outputs": [],
   "source": [
    "#import modules\n",
    "from flask import Flask, render_template,request,jsonify\n",
    "from flask_sqlalchemy import SQLAlchemy\n",
    "import os\n",
    "import pandas as pd\n",
    "import numpy as np\n",
    "import sqlalchemy\n",
    "from sqlalchemy.ext.automap import automap_base\n",
    "from sqlalchemy.orm import Session\n",
    "from sqlalchemy import create_engine\n",
    "import sqlite3"
   ]
  },
  {
   "cell_type": "code",
   "execution_count": 3,
   "metadata": {},
   "outputs": [
    {
     "name": "stderr",
     "output_type": "stream",
     "text": [
      "/anaconda3/lib/python3.7/site-packages/flask_sqlalchemy/__init__.py:794: FSADeprecationWarning: SQLALCHEMY_TRACK_MODIFICATIONS adds significant overhead and will be disabled by default in the future.  Set it to True or False to suppress this warning.\n",
      "  'SQLALCHEMY_TRACK_MODIFICATIONS adds significant overhead and '\n"
     ]
    }
   ],
   "source": [
    "#create an app\n",
    "app=Flask(__name__)\n",
    "app.config[\"SQLALCHEMY_DATABASE_URI\"]=\"sqlite:///datasets/output.sqlite\"\n",
    "db = SQLAlchemy(app)"
   ]
  },
  {
   "cell_type": "code",
   "execution_count": 14,
   "metadata": {},
   "outputs": [
    {
     "ename": "SyntaxError",
     "evalue": "invalid syntax (<ipython-input-14-c566912f9049>, line 7)",
     "output_type": "error",
     "traceback": [
      "\u001b[0;36m  File \u001b[0;32m\"<ipython-input-14-c566912f9049>\"\u001b[0;36m, line \u001b[0;32m7\u001b[0m\n\u001b[0;31m    realestate=Base.classes.\"RealEstate\"\u001b[0m\n\u001b[0m                                       ^\u001b[0m\n\u001b[0;31mSyntaxError\u001b[0m\u001b[0;31m:\u001b[0m invalid syntax\n"
     ]
    }
   ],
   "source": [
    "#create an engine and create the reference for table in output.sqlite through ORM\n",
    "engine=create_engine(\"sqlite:///datasets/output.sqlite\")\n",
    "Base=automap_base()\n",
    "Base.prepare(engine,reflect=True)\n",
    "#check table name before mapping\n",
    "Base.classes.keys()\n",
    "realestate=Base.classes.RealEstate"
   ]
  },
  {
   "cell_type": "code",
   "execution_count": 13,
   "metadata": {},
   "outputs": [],
   "source": [
    "@app.route(\"/\")\n",
    "def homepage():\n",
    "    return render_template(\"index.html\")"
   ]
  },
  {
   "cell_type": "code",
   "execution_count": null,
   "metadata": {},
   "outputs": [],
   "source": [
    "'''do not test the following until table name issue is resolved\n",
    "@app.route(\"/cities\")\n",
    "def city_name():\n",
    "    names_query=db.session.query(realestate.Region).distinct()\n",
    "    #if the return is a maxtrix\n",
    "    name_info=list(np.ravel(names_query))\n",
    "    return jsonify(name_info)  \n",
    "'''"
   ]
  },
  {
   "cell_type": "code",
   "execution_count": null,
   "metadata": {},
   "outputs": [],
   "source": [
    "'''do not test the following\n",
    "@app.route(\"/metadata/<city>\")\n",
    "def city_house_price(city):\n",
    "    city_query=db.session.query(realestate).filter(realestate.Region==city).all()\n",
    "    metadata_city={}\n",
    "    for result in city_query:\n",
    "        metadata_city[\"City\"]=result[0]\n",
    "        metadata_city[\"Date\"]=result[1]\n",
    "        metadata_city[\"Composite_Benchmark\"]=result[8]\n",
    "        metadata_city[\"Single_Family_Benchmark\"]=result[9]\n",
    "        metadata_city[\"One_Storey_Benchmark\"]=result[10]\n",
    "        metadata_city[\"Two_Storey_Benchmark\"]=result[11]\n",
    "        metadata_city[\"Townhouse_Benchmark\"]=result[12]\n",
    "        metadata_city[\"Apartment_Benchmark\"]=result[13]\n",
    "    return jsonify(metadata_city)\n",
    "'''"
   ]
  },
  {
   "cell_type": "code",
   "execution_count": null,
   "metadata": {},
   "outputs": [],
   "source": [
    "if __name__==\"__main__\":\n",
    "    app.run(debug=True)"
   ]
  }
 ],
 "metadata": {
  "kernelspec": {
   "display_name": "Python 3",
   "language": "python",
   "name": "python3"
  },
  "language_info": {
   "codemirror_mode": {
    "name": "ipython",
    "version": 3
   },
   "file_extension": ".py",
   "mimetype": "text/x-python",
   "name": "python",
   "nbconvert_exporter": "python",
   "pygments_lexer": "ipython3",
   "version": "3.7.1"
  }
 },
 "nbformat": 4,
 "nbformat_minor": 2
}
