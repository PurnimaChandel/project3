{
 "cells": [
  {
   "cell_type": "code",
   "execution_count": 19,
   "metadata": {},
   "outputs": [],
   "source": [
    "# Dependencies\n",
    "import requests\n",
    "from config import api_key\n",
    "import sys\n",
    "import untangle\n",
    "\n",
    "# Base URL\n",
    "url = \"http://www.zillow.com/webservice/GetRegionChildren.htm?\""
   ]
  },
  {
   "cell_type": "code",
   "execution_count": 22,
   "metadata": {},
   "outputs": [],
   "source": [
    "state = \"la\"\n",
    "# Build query URL and request\n",
    "query_url = f\"{url}zws-id=<api_key>&state={state}\""
   ]
  },
  {
   "cell_type": "code",
   "execution_count": 23,
   "metadata": {},
   "outputs": [
    {
     "name": "stdout",
     "output_type": "stream",
     "text": [
      "b'<?xml version=\"1.0\" encoding=\"utf-8\"?><RegionChildren:regionchildren xsi:schemaLocation=\"http://www.zillow.com/static/xsd/RegionChildren.xsd https://www.zillowstatic.com/vstatic/091b98a/static/xsd/RegionChildren.xsd\" xmlns:xsi=\"http://www.w3.org/2001/XMLSchema-instance\" xmlns:RegionChildren=\"http://www.zillow.com/static/xsd/RegionChildren.xsd\"><request><state>la</state></request><message><text>Error: invalid or missing ZWSID parameter</text><code>2</code></message></RegionChildren:regionchildren><!-- H:027  T:4ms  S:117  R:Thu Feb 28 14:04:52 PST 2019  B:5.0.58952-master.3473755~delivery_ready.c31d47a -->'\n"
     ]
    }
   ],
   "source": [
    "response = requests.get(query_url)\n",
    "xmldata = str.encode(response.text, encoding='ascii', errors='ignore')\n",
    "print (xmldata)"
   ]
  },
  {
   "cell_type": "code",
   "execution_count": null,
   "metadata": {},
   "outputs": [],
   "source": []
  },
  {
   "cell_type": "code",
   "execution_count": null,
   "metadata": {},
   "outputs": [],
   "source": []
  }
 ],
 "metadata": {
  "kernelspec": {
   "display_name": "Python 3",
   "language": "python",
   "name": "python3"
  },
  "language_info": {
   "codemirror_mode": {
    "name": "ipython",
    "version": 3
   },
   "file_extension": ".py",
   "mimetype": "text/x-python",
   "name": "python",
   "nbconvert_exporter": "python",
   "pygments_lexer": "ipython3",
   "version": "3.6.5"
  }
 },
 "nbformat": 4,
 "nbformat_minor": 2
}
